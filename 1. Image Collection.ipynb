{
 "cells": [
  {
   "cell_type": "markdown",
   "metadata": {},
   "source": [
    "# Import"
   ]
  },
  {
   "cell_type": "code",
   "execution_count": 1,
   "metadata": {},
   "outputs": [],
   "source": [
    "import time\n",
    "import os\n",
    "import cv2 \n",
    "import uuid"
   ]
  },
  {
   "cell_type": "markdown",
   "metadata": {},
   "source": [
    "# Define Images to Collect"
   ]
  },
  {
   "cell_type": "code",
   "execution_count": 1,
   "metadata": {},
   "outputs": [],
   "source": [
    "labels = ['one','two','three','four','five']\n",
    "number_imgs = 5"
   ]
  },
  {
   "cell_type": "markdown",
   "metadata": {},
   "source": [
    "# Setup Folders "
   ]
  },
  {
   "cell_type": "code",
   "execution_count": 3,
   "metadata": {},
   "outputs": [],
   "source": [
    "IMAGES_PATH = os.path.join('Tensorflow', 'workspace', 'images', 'collectedimages')"
   ]
  },
  {
   "cell_type": "code",
   "execution_count": 4,
   "metadata": {},
   "outputs": [
    {
     "name": "stdout",
     "output_type": "stream",
     "text": [
      "Tensorflow\\workspace\\images\\collectedimages\n"
     ]
    }
   ],
   "source": [
    "print(IMAGES_PATH)"
   ]
  },
  {
   "cell_type": "code",
   "execution_count": 6,
   "metadata": {},
   "outputs": [],
   "source": [
    "if not os.path.exists(IMAGES_PATH):\n",
    "    if os.name == 'posix':\n",
    "        !mkdir -p {IMAGES_PATH}\n",
    "    if os.name == 'nt':\n",
    "         !mkdir {IMAGES_PATH}\n",
    "for label in labels:\n",
    "    path = os.path.join(IMAGES_PATH, label)\n",
    "    if not os.path.exists(path):\n",
    "        !mkdir {path}"
   ]
  },
  {
   "cell_type": "markdown",
   "metadata": {},
   "source": [
    "# Capture Images"
   ]
  },
  {
   "cell_type": "code",
   "execution_count": 23,
   "metadata": {},
   "outputs": [
    {
     "name": "stdout",
     "output_type": "stream",
     "text": [
      "Collecting images for five\n",
      "Collecting image 0\n",
      "done\n",
      "Collecting image 1\n",
      "done\n",
      "Collecting image 2\n",
      "done\n",
      "Collecting image 3\n",
      "done\n",
      "Collecting image 4\n",
      "done\n"
     ]
    }
   ],
   "source": [
    "for label in labels:\n",
    "    cap = cv2.VideoCapture(0)\n",
    "    print(f'Collecting images for {label}')\n",
    "    time.sleep(3)\n",
    "    for imgnum in range(number_imgs):\n",
    "        print('Collecting image {}'.format(imgnum))\n",
    "        time.sleep(1)\n",
    "        ret, frame = cap.read()\n",
    "        imgname = os.path.join(IMAGES_PATH,label,label+'.'+'{}.jpg'.format(str(uuid.uuid1())))\n",
    "        cv2.imwrite(imgname, frame)\n",
    "        cv2.imshow('frame', frame)\n",
    "        print('done')\n",
    "        time.sleep(2)\n",
    "\n",
    "        if cv2.waitKey(1) & 0xFF == ord('q'):\n",
    "            break\n",
    "cap.release()\n",
    "cv2.destroyAllWindows()"
   ]
  },
  {
   "cell_type": "markdown",
   "metadata": {},
   "source": [
    "# Image Labelling"
   ]
  },
  {
   "cell_type": "code",
   "execution_count": 5,
   "metadata": {},
   "outputs": [],
   "source": [
    "LABELIMG_PATH = os.path.join('Tensorflow', 'labelimg')"
   ]
  },
  {
   "cell_type": "code",
   "execution_count": 11,
   "metadata": {},
   "outputs": [
    {
     "name": "stderr",
     "output_type": "stream",
     "text": [
      "Cloning into 'Tensorflow\\labelimg'...\n"
     ]
    }
   ],
   "source": [
    "if not os.path.exists(LABELIMG_PATH):\n",
    "    !mkdir {LABELIMG_PATH}\n",
    "    !git clone https://github.com/tzutalin/labelImg {LABELIMG_PATH}"
   ]
  },
  {
   "cell_type": "code",
   "execution_count": 12,
   "metadata": {},
   "outputs": [],
   "source": [
    "if os.name == 'posix':\n",
    "    !make qt5py3\n",
    "if os.name =='nt':\n",
    "    !cd {LABELIMG_PATH} && pyrcc5 -o libs/resources.py resources.qrc"
   ]
  },
  {
   "cell_type": "code",
   "execution_count": 6,
   "metadata": {},
   "outputs": [
    {
     "name": "stdout",
     "output_type": "stream",
     "text": [
      "Image:F:\\My_ML_Projects\\Ex\\Object Detection Ex\\Ex1\\TFODCourse\\Tensorflow\\workspace\\images\\collectedimages\\one\\one.3e8c119e-f3a4-11eb-ab2d-54e1ad282796.jpg -> Annotation:F:/My_ML_Projects/Ex/Object Detection Ex/Ex1/TFODCourse/Tensorflow/workspace/images/collectedimages/one/one.3e8c119e-f3a4-11eb-ab2d-54e1ad282796.xml\n",
      "Image:F:\\My_ML_Projects\\Ex\\Object Detection Ex\\Ex1\\TFODCourse\\Tensorflow\\workspace\\images\\collectedimages\\one\\one.4a5d1af9-f34a-11eb-bd5a-54e1ad282796.jpg -> Annotation:F:/My_ML_Projects/Ex/Object Detection Ex/Ex1/TFODCourse/Tensorflow/workspace/images/collectedimages/one/one.4a5d1af9-f34a-11eb-bd5a-54e1ad282796.xml\n",
      "Image:F:\\My_ML_Projects\\Ex\\Object Detection Ex\\Ex1\\TFODCourse\\Tensorflow\\workspace\\images\\collectedimages\\one\\one.4c2ab6c1-f34a-11eb-9d06-54e1ad282796.jpg -> Annotation:F:/My_ML_Projects/Ex/Object Detection Ex/Ex1/TFODCourse/Tensorflow/workspace/images/collectedimages/one/one.4c2ab6c1-f34a-11eb-9d06-54e1ad282796.xml\n",
      "Image:F:\\My_ML_Projects\\Ex\\Object Detection Ex\\Ex1\\TFODCourse\\Tensorflow\\workspace\\images\\collectedimages\\one\\one.4df83908-f34a-11eb-9e75-54e1ad282796.jpg -> Annotation:F:/My_ML_Projects/Ex/Object Detection Ex/Ex1/TFODCourse/Tensorflow/workspace/images/collectedimages/one/one.4df83908-f34a-11eb-9e75-54e1ad282796.xml\n",
      "Image:F:\\My_ML_Projects\\Ex\\Object Detection Ex\\Ex1\\TFODCourse\\Tensorflow\\workspace\\images\\collectedimages\\one\\one.11d9d4e0-f3a5-11eb-9ff0-54e1ad282796.jpg -> Annotation:F:/My_ML_Projects/Ex/Object Detection Ex/Ex1/TFODCourse/Tensorflow/workspace/images/collectedimages/one/one.11d9d4e0-f3a5-11eb-9ff0-54e1ad282796.xml\n",
      "Image:F:\\My_ML_Projects\\Ex\\Object Detection Ex\\Ex1\\TFODCourse\\Tensorflow\\workspace\\images\\collectedimages\\one\\one.13a92e98-f3a5-11eb-936b-54e1ad282796.jpg -> Annotation:F:/My_ML_Projects/Ex/Object Detection Ex/Ex1/TFODCourse/Tensorflow/workspace/images/collectedimages/one/one.13a92e98-f3a5-11eb-936b-54e1ad282796.xml\n",
      "Image:F:\\My_ML_Projects\\Ex\\Object Detection Ex\\Ex1\\TFODCourse\\Tensorflow\\workspace\\images\\collectedimages\\one\\one.45f87aa2-f3a4-11eb-8989-54e1ad282796.jpg -> Annotation:F:/My_ML_Projects/Ex/Object Detection Ex/Ex1/TFODCourse/Tensorflow/workspace/images/collectedimages/one/one.45f87aa2-f3a4-11eb-8989-54e1ad282796.xml\n",
      "Image:F:\\My_ML_Projects\\Ex\\Object Detection Ex\\Ex1\\TFODCourse\\Tensorflow\\workspace\\images\\collectedimages\\one\\one.46bfafd2-f34a-11eb-a790-54e1ad282796.jpg -> Annotation:F:/My_ML_Projects/Ex/Object Detection Ex/Ex1/TFODCourse/Tensorflow/workspace/images/collectedimages/one/one.46bfafd2-f34a-11eb-a790-54e1ad282796.xml\n",
      "Image:F:\\My_ML_Projects\\Ex\\Object Detection Ex\\Ex1\\TFODCourse\\Tensorflow\\workspace\\images\\collectedimages\\one\\one.157ec03d-f3a5-11eb-8118-54e1ad282796.jpg -> Annotation:F:/My_ML_Projects/Ex/Object Detection Ex/Ex1/TFODCourse/Tensorflow/workspace/images/collectedimages/one/one.157ec03d-f3a5-11eb-8118-54e1ad282796.xml\n",
      "Image:F:\\My_ML_Projects\\Ex\\Object Detection Ex\\Ex1\\TFODCourse\\Tensorflow\\workspace\\images\\collectedimages\\one\\one.174d42b9-f3a5-11eb-a939-54e1ad282796.jpg -> Annotation:F:/My_ML_Projects/Ex/Object Detection Ex/Ex1/TFODCourse/Tensorflow/workspace/images/collectedimages/one/one.174d42b9-f3a5-11eb-a939-54e1ad282796.xml\n",
      "Image:F:\\My_ML_Projects\\Ex\\Object Detection Ex\\Ex1\\TFODCourse\\Tensorflow\\workspace\\images\\collectedimages\\one\\one.407a9a02-f3a4-11eb-a4b5-54e1ad282796.jpg -> Annotation:F:/My_ML_Projects/Ex/Object Detection Ex/Ex1/TFODCourse/Tensorflow/workspace/images/collectedimages/one/one.407a9a02-f3a4-11eb-a4b5-54e1ad282796.xml\n",
      "Image:F:\\My_ML_Projects\\Ex\\Object Detection Ex\\Ex1\\TFODCourse\\Tensorflow\\workspace\\images\\collectedimages\\one\\one.424aa82b-f3a4-11eb-85a4-54e1ad282796.jpg -> Annotation:F:/My_ML_Projects/Ex/Object Detection Ex/Ex1/TFODCourse/Tensorflow/workspace/images/collectedimages/one/one.424aa82b-f3a4-11eb-85a4-54e1ad282796.xml\n",
      "Image:F:\\My_ML_Projects\\Ex\\Object Detection Ex\\Ex1\\TFODCourse\\Tensorflow\\workspace\\images\\collectedimages\\one\\one.441a51d8-f3a4-11eb-a319-54e1ad282796.jpg -> Annotation:F:/My_ML_Projects/Ex/Object Detection Ex/Ex1/TFODCourse/Tensorflow/workspace/images/collectedimages/one/one.441a51d8-f3a4-11eb-a319-54e1ad282796.xml\n",
      "Image:F:\\My_ML_Projects\\Ex\\Object Detection Ex\\Ex1\\TFODCourse\\Tensorflow\\workspace\\images\\collectedimages\\one\\one.488f88a3-f34a-11eb-a76b-54e1ad282796.jpg -> Annotation:F:/My_ML_Projects/Ex/Object Detection Ex/Ex1/TFODCourse/Tensorflow/workspace/images/collectedimages/one/one.488f88a3-f34a-11eb-a76b-54e1ad282796.xml\n",
      "Image:F:\\My_ML_Projects\\Ex\\Object Detection Ex\\Ex1\\TFODCourse\\Tensorflow\\workspace\\images\\collectedimages\\one\\one.1008060e-f3a5-11eb-a59e-54e1ad282796.jpg -> Annotation:F:/My_ML_Projects/Ex/Object Detection Ex/Ex1/TFODCourse/Tensorflow/workspace/images/collectedimages/one/one.1008060e-f3a5-11eb-a59e-54e1ad282796.xml\n",
      "Image:F:\\My_ML_Projects\\Ex\\Object Detection Ex\\Ex1\\TFODCourse\\Tensorflow\\workspace\\images\\collectedimages\\two\\two.2ee07a58-f3a5-11eb-8923-54e1ad282796.jpg -> Annotation:F:/My_ML_Projects/Ex/Object Detection Ex/Ex1/TFODCourse/Tensorflow/workspace/images/collectedimages/two/two.2ee07a58-f3a5-11eb-8923-54e1ad282796.xml\n",
      "Image:F:\\My_ML_Projects\\Ex\\Object Detection Ex\\Ex1\\TFODCourse\\Tensorflow\\workspace\\images\\collectedimages\\two\\two.30b21222-f3a5-11eb-8787-54e1ad282796.jpg -> Annotation:F:/My_ML_Projects/Ex/Object Detection Ex/Ex1/TFODCourse/Tensorflow/workspace/images/collectedimages/two/two.30b21222-f3a5-11eb-8787-54e1ad282796.xml\n",
      "Image:F:\\My_ML_Projects\\Ex\\Object Detection Ex\\Ex1\\TFODCourse\\Tensorflow\\workspace\\images\\collectedimages\\two\\two.55da6c25-f34a-11eb-925b-54e1ad282796.jpg -> Annotation:F:/My_ML_Projects/Ex/Object Detection Ex/Ex1/TFODCourse/Tensorflow/workspace/images/collectedimages/two/two.55da6c25-f34a-11eb-925b-54e1ad282796.xml\n",
      "Image:F:\\My_ML_Projects\\Ex\\Object Detection Ex\\Ex1\\TFODCourse\\Tensorflow\\workspace\\images\\collectedimages\\two\\two.57a8229b-f34a-11eb-9996-54e1ad282796.jpg -> Annotation:F:/My_ML_Projects/Ex/Object Detection Ex/Ex1/TFODCourse/Tensorflow/workspace/images/collectedimages/two/two.57a8229b-f34a-11eb-9996-54e1ad282796.xml\n",
      "Image:F:\\My_ML_Projects\\Ex\\Object Detection Ex\\Ex1\\TFODCourse\\Tensorflow\\workspace\\images\\collectedimages\\two\\two.80c2e67b-f3a4-11eb-8a78-54e1ad282796.jpg -> Annotation:F:/My_ML_Projects/Ex/Object Detection Ex/Ex1/TFODCourse/Tensorflow/workspace/images/collectedimages/two/two.80c2e67b-f3a4-11eb-8a78-54e1ad282796.xml\n",
      "Image:F:\\My_ML_Projects\\Ex\\Object Detection Ex\\Ex1\\TFODCourse\\Tensorflow\\workspace\\images\\collectedimages\\two\\two.344d5226-f3a5-11eb-9e45-54e1ad282796.jpg -> Annotation:F:/My_ML_Projects/Ex/Object Detection Ex/Ex1/TFODCourse/Tensorflow/workspace/images/collectedimages/two/two.344d5226-f3a5-11eb-9e45-54e1ad282796.xml\n",
      "Image:F:\\My_ML_Projects\\Ex\\Object Detection Ex\\Ex1\\TFODCourse\\Tensorflow\\workspace\\images\\collectedimages\\two\\two.361d68bf-f3a5-11eb-9cb1-54e1ad282796.jpg -> Annotation:F:/My_ML_Projects/Ex/Object Detection Ex/Ex1/TFODCourse/Tensorflow/workspace/images/collectedimages/two/two.361d68bf-f3a5-11eb-9cb1-54e1ad282796.xml\n",
      "Image:F:\\My_ML_Projects\\Ex\\Object Detection Ex\\Ex1\\TFODCourse\\Tensorflow\\workspace\\images\\collectedimages\\two\\two.540c77d4-f34a-11eb-97f5-54e1ad282796.jpg -> Annotation:F:/My_ML_Projects/Ex/Object Detection Ex/Ex1/TFODCourse/Tensorflow/workspace/images/collectedimages/two/two.540c77d4-f34a-11eb-97f5-54e1ad282796.xml\n",
      "Image:F:\\My_ML_Projects\\Ex\\Object Detection Ex\\Ex1\\TFODCourse\\Tensorflow\\workspace\\images\\collectedimages\\two\\two.8462a5ad-f3a4-11eb-8fe4-54e1ad282796.jpg -> Annotation:F:/My_ML_Projects/Ex/Object Detection Ex/Ex1/TFODCourse/Tensorflow/workspace/images/collectedimages/two/two.8462a5ad-f3a4-11eb-8fe4-54e1ad282796.xml\n",
      "Image:F:\\My_ML_Projects\\Ex\\Object Detection Ex\\Ex1\\TFODCourse\\Tensorflow\\workspace\\images\\collectedimages\\two\\two.8631e8a3-f3a4-11eb-a8d9-54e1ad282796.jpg -> Annotation:F:/My_ML_Projects/Ex/Object Detection Ex/Ex1/TFODCourse/Tensorflow/workspace/images/collectedimages/two/two.8631e8a3-f3a4-11eb-a8d9-54e1ad282796.xml\n",
      "Image:F:\\My_ML_Projects\\Ex\\Object Detection Ex\\Ex1\\TFODCourse\\Tensorflow\\workspace\\images\\collectedimages\\two\\two.8801d628-f3a4-11eb-b085-54e1ad282796.jpg -> Annotation:F:/My_ML_Projects/Ex/Object Detection Ex/Ex1/TFODCourse/Tensorflow/workspace/images/collectedimages/two/two.8801d628-f3a4-11eb-b085-54e1ad282796.xml\n",
      "Image:F:\\My_ML_Projects\\Ex\\Object Detection Ex\\Ex1\\TFODCourse\\Tensorflow\\workspace\\images\\collectedimages\\two\\two.52404a02-f34a-11eb-971b-54e1ad282796.jpg -> Annotation:F:/My_ML_Projects/Ex/Object Detection Ex/Ex1/TFODCourse/Tensorflow/workspace/images/collectedimages/two/two.52404a02-f34a-11eb-971b-54e1ad282796.xml\n",
      "Image:F:\\My_ML_Projects\\Ex\\Object Detection Ex\\Ex1\\TFODCourse\\Tensorflow\\workspace\\images\\collectedimages\\two\\two.597629d5-f34a-11eb-84d4-54e1ad282796.jpg -> Annotation:F:/My_ML_Projects/Ex/Object Detection Ex/Ex1/TFODCourse/Tensorflow/workspace/images/collectedimages/two/two.597629d5-f34a-11eb-84d4-54e1ad282796.xml\n",
      "Image:F:\\My_ML_Projects\\Ex\\Object Detection Ex\\Ex1\\TFODCourse\\Tensorflow\\workspace\\images\\collectedimages\\two\\two.829279b9-f3a4-11eb-9ca0-54e1ad282796.jpg -> Annotation:F:/My_ML_Projects/Ex/Object Detection Ex/Ex1/TFODCourse/Tensorflow/workspace/images/collectedimages/two/two.829279b9-f3a4-11eb-9ca0-54e1ad282796.xml\n",
      "Image:F:\\My_ML_Projects\\Ex\\Object Detection Ex\\Ex1\\TFODCourse\\Tensorflow\\workspace\\images\\collectedimages\\three\\three.4b9b80ac-f3a5-11eb-9f53-54e1ad282796.jpg -> Annotation:F:/My_ML_Projects/Ex/Object Detection Ex/Ex1/TFODCourse/Tensorflow/workspace/images/collectedimages/three/three.4b9b80ac-f3a5-11eb-9f53-54e1ad282796.xml\n",
      "Image:F:\\My_ML_Projects\\Ex\\Object Detection Ex\\Ex1\\TFODCourse\\Tensorflow\\workspace\\images\\collectedimages\\three\\three.4d6ac378-f3a5-11eb-8c24-54e1ad282796.jpg -> Annotation:F:/My_ML_Projects/Ex/Object Detection Ex/Ex1/TFODCourse/Tensorflow/workspace/images/collectedimages/three/three.4d6ac378-f3a5-11eb-8c24-54e1ad282796.xml\n",
      "Image:F:\\My_ML_Projects\\Ex\\Object Detection Ex\\Ex1\\TFODCourse\\Tensorflow\\workspace\\images\\collectedimages\\three\\three.4f3a650c-f3a5-11eb-9ffc-54e1ad282796.jpg -> Annotation:F:/My_ML_Projects/Ex/Object Detection Ex/Ex1/TFODCourse/Tensorflow/workspace/images/collectedimages/three/three.4f3a650c-f3a5-11eb-9ffc-54e1ad282796.xml\n",
      "Image:F:\\My_ML_Projects\\Ex\\Object Detection Ex\\Ex1\\TFODCourse\\Tensorflow\\workspace\\images\\collectedimages\\three\\three.5d996d63-f34a-11eb-bda3-54e1ad282796.jpg -> Annotation:F:/My_ML_Projects/Ex/Object Detection Ex/Ex1/TFODCourse/Tensorflow/workspace/images/collectedimages/three/three.5d996d63-f34a-11eb-bda3-54e1ad282796.xml\n",
      "Image:F:\\My_ML_Projects\\Ex\\Object Detection Ex\\Ex1\\TFODCourse\\Tensorflow\\workspace\\images\\collectedimages\\three\\three.5f66d69a-f34a-11eb-b23f-54e1ad282796.jpg -> Annotation:F:/My_ML_Projects/Ex/Object Detection Ex/Ex1/TFODCourse/Tensorflow/workspace/images/collectedimages/three/three.5f66d69a-f34a-11eb-b23f-54e1ad282796.xml\n",
      "Image:F:\\My_ML_Projects\\Ex\\Object Detection Ex\\Ex1\\TFODCourse\\Tensorflow\\workspace\\images\\collectedimages\\three\\three.9c827e94-f3a4-11eb-855c-54e1ad282796.jpg -> Annotation:F:/My_ML_Projects/Ex/Object Detection Ex/Ex1/TFODCourse/Tensorflow/workspace/images/collectedimages/three/three.9c827e94-f3a4-11eb-855c-54e1ad282796.xml\n",
      "Image:F:\\My_ML_Projects\\Ex\\Object Detection Ex\\Ex1\\TFODCourse\\Tensorflow\\workspace\\images\\collectedimages\\three\\three.9e5274d0-f3a4-11eb-94ff-54e1ad282796.jpg -> Annotation:F:/My_ML_Projects/Ex/Object Detection Ex/Ex1/TFODCourse/Tensorflow/workspace/images/collectedimages/three/three.9e5274d0-f3a4-11eb-94ff-54e1ad282796.xml\n",
      "Image:F:\\My_ML_Projects\\Ex\\Object Detection Ex\\Ex1\\TFODCourse\\Tensorflow\\workspace\\images\\collectedimages\\three\\three.47fbbe69-f3a5-11eb-957a-54e1ad282796.jpg -> Annotation:F:/My_ML_Projects/Ex/Object Detection Ex/Ex1/TFODCourse/Tensorflow/workspace/images/collectedimages/three/three.47fbbe69-f3a5-11eb-957a-54e1ad282796.xml\n",
      "Image:F:\\My_ML_Projects\\Ex\\Object Detection Ex\\Ex1\\TFODCourse\\Tensorflow\\workspace\\images\\collectedimages\\three\\three.64cf4e77-f34a-11eb-bd5a-54e1ad282796.jpg -> Annotation:F:/My_ML_Projects/Ex/Object Detection Ex/Ex1/TFODCourse/Tensorflow/workspace/images/collectedimages/three/three.64cf4e77-f34a-11eb-bd5a-54e1ad282796.xml\n",
      "Image:F:\\My_ML_Projects\\Ex\\Object Detection Ex\\Ex1\\TFODCourse\\Tensorflow\\workspace\\images\\collectedimages\\three\\three.6133a184-f34a-11eb-bb45-54e1ad282796.jpg -> Annotation:F:/My_ML_Projects/Ex/Object Detection Ex/Ex1/TFODCourse/Tensorflow/workspace/images/collectedimages/three/three.6133a184-f34a-11eb-bb45-54e1ad282796.xml\n",
      "Image:F:\\My_ML_Projects\\Ex\\Object Detection Ex\\Ex1\\TFODCourse\\Tensorflow\\workspace\\images\\collectedimages\\three\\three.6301611f-f34a-11eb-8699-54e1ad282796.jpg -> Annotation:F:/My_ML_Projects/Ex/Object Detection Ex/Ex1/TFODCourse/Tensorflow/workspace/images/collectedimages/three/three.6301611f-f34a-11eb-8699-54e1ad282796.xml\n",
      "Image:F:\\My_ML_Projects\\Ex\\Object Detection Ex\\Ex1\\TFODCourse\\Tensorflow\\workspace\\images\\collectedimages\\three\\three.a1ee6c04-f3a4-11eb-9afe-54e1ad282796.jpg -> Annotation:F:/My_ML_Projects/Ex/Object Detection Ex/Ex1/TFODCourse/Tensorflow/workspace/images/collectedimages/three/three.a1ee6c04-f3a4-11eb-9afe-54e1ad282796.xml\n",
      "Image:F:\\My_ML_Projects\\Ex\\Object Detection Ex\\Ex1\\TFODCourse\\Tensorflow\\workspace\\images\\collectedimages\\three\\three.a3bf12fb-f3a4-11eb-a01f-54e1ad282796.jpg -> Annotation:F:/My_ML_Projects/Ex/Object Detection Ex/Ex1/TFODCourse/Tensorflow/workspace/images/collectedimages/three/three.a3bf12fb-f3a4-11eb-a01f-54e1ad282796.xml\n",
      "Image:F:\\My_ML_Projects\\Ex\\Object Detection Ex\\Ex1\\TFODCourse\\Tensorflow\\workspace\\images\\collectedimages\\three\\three.a020bd92-f3a4-11eb-9eec-54e1ad282796.jpg -> Annotation:F:/My_ML_Projects/Ex/Object Detection Ex/Ex1/TFODCourse/Tensorflow/workspace/images/collectedimages/three/three.a020bd92-f3a4-11eb-9eec-54e1ad282796.xml\n",
      "Image:F:\\My_ML_Projects\\Ex\\Object Detection Ex\\Ex1\\TFODCourse\\Tensorflow\\workspace\\images\\collectedimages\\four\\four.5a43bec3-f3a5-11eb-ba03-54e1ad282796.jpg -> Annotation:F:/My_ML_Projects/Ex/Object Detection Ex/Ex1/TFODCourse/Tensorflow/workspace/images/collectedimages/four/four.5a43bec3-f3a5-11eb-ba03-54e1ad282796.xml\n",
      "Image:F:\\My_ML_Projects\\Ex\\Object Detection Ex\\Ex1\\TFODCourse\\Tensorflow\\workspace\\images\\collectedimages\\four\\four.5c159b1f-f3a5-11eb-ac38-54e1ad282796.jpg -> Annotation:F:/My_ML_Projects/Ex/Object Detection Ex/Ex1/TFODCourse/Tensorflow/workspace/images/collectedimages/four/four.5c159b1f-f3a5-11eb-ac38-54e1ad282796.xml\n",
      "Image:F:\\My_ML_Projects\\Ex\\Object Detection Ex\\Ex1\\TFODCourse\\Tensorflow\\workspace\\images\\collectedimages\\four\\four.5de27777-f3a5-11eb-8b84-54e1ad282796.jpg -> Annotation:F:/My_ML_Projects/Ex/Object Detection Ex/Ex1/TFODCourse/Tensorflow/workspace/images/collectedimages/four/four.5de27777-f3a5-11eb-8b84-54e1ad282796.xml\n",
      "Image:F:\\My_ML_Projects\\Ex\\Object Detection Ex\\Ex1\\TFODCourse\\Tensorflow\\workspace\\images\\collectedimages\\four\\four.5fb01fde-f3a5-11eb-99a2-54e1ad282796.jpg -> Annotation:F:/My_ML_Projects/Ex/Object Detection Ex/Ex1/TFODCourse/Tensorflow/workspace/images/collectedimages/four/four.5fb01fde-f3a5-11eb-99a2-54e1ad282796.xml\n",
      "Image:F:\\My_ML_Projects\\Ex\\Object Detection Ex\\Ex1\\TFODCourse\\Tensorflow\\workspace\\images\\collectedimages\\four\\four.6acffb45-f34a-11eb-bcd6-54e1ad282796.jpg -> Annotation:F:/My_ML_Projects/Ex/Object Detection Ex/Ex1/TFODCourse/Tensorflow/workspace/images/collectedimages/four/four.6acffb45-f34a-11eb-bcd6-54e1ad282796.xml\n",
      "Image:F:\\My_ML_Projects\\Ex\\Object Detection Ex\\Ex1\\TFODCourse\\Tensorflow\\workspace\\images\\collectedimages\\four\\four.617ec647-f3a5-11eb-acc9-54e1ad282796.jpg -> Annotation:F:/My_ML_Projects/Ex/Object Detection Ex/Ex1/TFODCourse/Tensorflow/workspace/images/collectedimages/four/four.617ec647-f3a5-11eb-acc9-54e1ad282796.xml\n",
      "Image:F:\\My_ML_Projects\\Ex\\Object Detection Ex\\Ex1\\TFODCourse\\Tensorflow\\workspace\\images\\collectedimages\\four\\four.ad9df50a-f3a4-11eb-89ba-54e1ad282796.jpg -> Annotation:F:/My_ML_Projects/Ex/Object Detection Ex/Ex1/TFODCourse/Tensorflow/workspace/images/collectedimages/four/four.ad9df50a-f3a4-11eb-89ba-54e1ad282796.xml\n"
     ]
    },
    {
     "name": "stderr",
     "output_type": "stream",
     "text": [
      "qt.qpa.fonts: Unable to open default EUDC font: \"EUDC.TTE\"\n"
     ]
    },
    {
     "name": "stdout",
     "output_type": "stream",
     "text": [
      "Image:F:\\My_ML_Projects\\Ex\\Object Detection Ex\\Ex1\\TFODCourse\\Tensorflow\\workspace\\images\\collectedimages\\four\\four.af6f91c4-f3a4-11eb-851b-54e1ad282796.jpg -> Annotation:F:/My_ML_Projects/Ex/Object Detection Ex/Ex1/TFODCourse/Tensorflow/workspace/images/collectedimages/four/four.af6f91c4-f3a4-11eb-851b-54e1ad282796.xml\n",
      "Image:F:\\My_ML_Projects\\Ex\\Object Detection Ex\\Ex1\\TFODCourse\\Tensorflow\\workspace\\images\\collectedimages\\four\\four.b4df7e02-f3a4-11eb-8a39-54e1ad282796.jpg -> Annotation:F:/My_ML_Projects/Ex/Object Detection Ex/Ex1/TFODCourse/Tensorflow/workspace/images/collectedimages/four/four.b4df7e02-f3a4-11eb-8a39-54e1ad282796.xml\n",
      "Image:F:\\My_ML_Projects\\Ex\\Object Detection Ex\\Ex1\\TFODCourse\\Tensorflow\\workspace\\images\\collectedimages\\four\\four.b13fc99c-f3a4-11eb-96e2-54e1ad282796.jpg -> Annotation:F:/My_ML_Projects/Ex/Object Detection Ex/Ex1/TFODCourse/Tensorflow/workspace/images/collectedimages/four/four.b13fc99c-f3a4-11eb-96e2-54e1ad282796.xml\n",
      "Image:F:\\My_ML_Projects\\Ex\\Object Detection Ex\\Ex1\\TFODCourse\\Tensorflow\\workspace\\images\\collectedimages\\four\\four.b30fbff3-f3a4-11eb-9024-54e1ad282796.jpg -> Annotation:F:/My_ML_Projects/Ex/Object Detection Ex/Ex1/TFODCourse/Tensorflow/workspace/images/collectedimages/four/four.b30fbff3-f3a4-11eb-9024-54e1ad282796.xml\n",
      "Image:F:\\My_ML_Projects\\Ex\\Object Detection Ex\\Ex1\\TFODCourse\\Tensorflow\\workspace\\images\\collectedimages\\five\\five.6f23dcd3-f3a5-11eb-99f7-54e1ad282796.jpg -> Annotation:F:/My_ML_Projects/Ex/Object Detection Ex/Ex1/TFODCourse/Tensorflow/workspace/images/collectedimages/five/five.6f23dcd3-f3a5-11eb-99f7-54e1ad282796.xml\n",
      "Image:F:\\My_ML_Projects\\Ex\\Object Detection Ex\\Ex1\\TFODCourse\\Tensorflow\\workspace\\images\\collectedimages\\five\\five.70f5a219-f3a5-11eb-8698-54e1ad282796.jpg -> Annotation:F:/My_ML_Projects/Ex/Object Detection Ex/Ex1/TFODCourse/Tensorflow/workspace/images/collectedimages/five/five.70f5a219-f3a5-11eb-8698-54e1ad282796.xml\n",
      "Image:F:\\My_ML_Projects\\Ex\\Object Detection Ex\\Ex1\\TFODCourse\\Tensorflow\\workspace\\images\\collectedimages\\five\\five.72c55ced-f3a5-11eb-8a55-54e1ad282796.jpg -> Annotation:F:/My_ML_Projects/Ex/Object Detection Ex/Ex1/TFODCourse/Tensorflow/workspace/images/collectedimages/five/five.72c55ced-f3a5-11eb-8a55-54e1ad282796.xml\n",
      "Image:F:\\My_ML_Projects\\Ex\\Object Detection Ex\\Ex1\\TFODCourse\\Tensorflow\\workspace\\images\\collectedimages\\five\\five.7497da0a-f3a5-11eb-9fcf-54e1ad282796.jpg -> Annotation:F:/My_ML_Projects/Ex/Object Detection Ex/Ex1/TFODCourse/Tensorflow/workspace/images/collectedimages/five/five.7497da0a-f3a5-11eb-9fcf-54e1ad282796.xml\n",
      "Image:F:\\My_ML_Projects\\Ex\\Object Detection Ex\\Ex1\\TFODCourse\\Tensorflow\\workspace\\images\\collectedimages\\five\\five.7667a5c5-f3a5-11eb-bb63-54e1ad282796.jpg -> Annotation:F:/My_ML_Projects/Ex/Object Detection Ex/Ex1/TFODCourse/Tensorflow/workspace/images/collectedimages/five/five.7667a5c5-f3a5-11eb-bb63-54e1ad282796.xml\n",
      "Image:F:\\My_ML_Projects\\Ex\\Object Detection Ex\\Ex1\\TFODCourse\\Tensorflow\\workspace\\images\\collectedimages\\five\\five.c8fbe6a7-f3a4-11eb-afba-54e1ad282796.jpg -> Annotation:F:/My_ML_Projects/Ex/Object Detection Ex/Ex1/TFODCourse/Tensorflow/workspace/images/collectedimages/five/five.c8fbe6a7-f3a4-11eb-afba-54e1ad282796.xml\n",
      "Image:F:\\My_ML_Projects\\Ex\\Object Detection Ex\\Ex1\\TFODCourse\\Tensorflow\\workspace\\images\\collectedimages\\five\\five.c55a2dd6-f3a4-11eb-a579-54e1ad282796.jpg -> Annotation:F:/My_ML_Projects/Ex/Object Detection Ex/Ex1/TFODCourse/Tensorflow/workspace/images/collectedimages/five/five.c55a2dd6-f3a4-11eb-a579-54e1ad282796.xml\n",
      "Image:F:\\My_ML_Projects\\Ex\\Object Detection Ex\\Ex1\\TFODCourse\\Tensorflow\\workspace\\images\\collectedimages\\five\\five.c72be767-f3a4-11eb-abb7-54e1ad282796.jpg -> Annotation:F:/My_ML_Projects/Ex/Object Detection Ex/Ex1/TFODCourse/Tensorflow/workspace/images/collectedimages/five/five.c72be767-f3a4-11eb-abb7-54e1ad282796.xml\n",
      "Image:F:\\My_ML_Projects\\Ex\\Object Detection Ex\\Ex1\\TFODCourse\\Tensorflow\\workspace\\images\\collectedimages\\five\\five.cacbf91b-f3a4-11eb-a6b0-54e1ad282796.jpg -> Annotation:F:/My_ML_Projects/Ex/Object Detection Ex/Ex1/TFODCourse/Tensorflow/workspace/images/collectedimages/five/five.cacbf91b-f3a4-11eb-a6b0-54e1ad282796.xml\n",
      "Image:F:\\My_ML_Projects\\Ex\\Object Detection Ex\\Ex1\\TFODCourse\\Tensorflow\\workspace\\images\\collectedimages\\five\\five.cc991957-f3a4-11eb-ba50-54e1ad282796.jpg -> Annotation:F:/My_ML_Projects/Ex/Object Detection Ex/Ex1/TFODCourse/Tensorflow/workspace/images/collectedimages/five/five.cc991957-f3a4-11eb-ba50-54e1ad282796.xml\n"
     ]
    }
   ],
   "source": [
    "!cd {LABELIMG_PATH} && python labelImg.py"
   ]
  },
  {
   "cell_type": "markdown",
   "metadata": {},
   "source": [
    "# Next move them into a training and testing partition"
   ]
  },
  {
   "cell_type": "markdown",
   "metadata": {},
   "source": [
    "# OPTIONAL - 7. Compress them for Colab Training"
   ]
  },
  {
   "cell_type": "code",
   "execution_count": 2,
   "metadata": {},
   "outputs": [],
   "source": [
    "TRAIN_PATH = os.path.join('Tensorflow', 'workspace', 'images', 'train')\n",
    "TEST_PATH = os.path.join('Tensorflow', 'workspace', 'images', 'test')\n",
    "ARCHIVE_PATH = os.path.join('Tensorflow', 'workspace', 'images', 'archive.tar.gz')"
   ]
  },
  {
   "cell_type": "code",
   "execution_count": 3,
   "metadata": {},
   "outputs": [
    {
     "name": "stderr",
     "output_type": "stream",
     "text": [
      "'tar' is not recognized as an internal or external command,\n",
      "operable program or batch file.\n"
     ]
    }
   ],
   "source": [
    "!tar -czf {ARCHIVE_PATH} {TRAIN_PATH} {TEST_PATH}"
   ]
  },
  {
   "cell_type": "code",
   "execution_count": null,
   "metadata": {},
   "outputs": [],
   "source": []
  }
 ],
 "metadata": {
  "kernelspec": {
   "display_name": "tfod",
   "language": "python",
   "name": "tfod"
  },
  "language_info": {
   "codemirror_mode": {
    "name": "ipython",
    "version": 3
   },
   "file_extension": ".py",
   "mimetype": "text/x-python",
   "name": "python",
   "nbconvert_exporter": "python",
   "pygments_lexer": "ipython3",
   "version": "3.9.1"
  }
 },
 "nbformat": 4,
 "nbformat_minor": 2
}
